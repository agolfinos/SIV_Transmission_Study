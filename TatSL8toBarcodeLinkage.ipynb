{
 "cells": [
  {
   "cell_type": "markdown",
   "metadata": {},
   "source": [
    "# Importing Packages"
   ]
  },
  {
   "cell_type": "code",
   "execution_count": 5,
   "metadata": {},
   "outputs": [],
   "source": [
    "import sys\n",
    "import os\n",
    "import pandas as pd\n",
    "from Bio import SeqIO, Seq\n",
    "import shutil\n",
    "import gzip\n",
    "import subprocess"
   ]
  },
  {
   "cell_type": "markdown",
   "metadata": {},
   "source": [
    "# Defining Variables"
   ]
  },
  {
   "cell_type": "code",
   "execution_count": 6,
   "metadata": {},
   "outputs": [],
   "source": [
    "appRoot = \"/Users/agolfinos/Desktop/SIV_Transmission_Paper/Sequences_IR/out/\"\n"
   ]
  },
  {
   "cell_type": "markdown",
   "metadata": {},
   "source": [
    "# Converting fastq.gz to .fastq"
   ]
  },
  {
   "cell_type": "code",
   "execution_count": 47,
   "metadata": {},
   "outputs": [
    {
     "name": "stdout",
     "output_type": "stream",
     "text": [
      "r04103_Week10-R2-24194.fastq\n",
      "r10001_Week8-R2-24176.fastq\n",
      "r04103_Day14-R1-24189.fastq\n",
      "r10001_Day21-R2-24173.fastq\n",
      "r10001_Week12(necropsy)-R1-24170.fastq\n",
      "r04103_Week6-R1-24192.fastq\n",
      "r04103_Week12(necropsy)-R2-24195.fastq\n",
      "r10001_Day14-R2-24164.fastq\n",
      "r10001_Week6-R2-24175.fastq\n",
      "r04103_Day7-R2-24188.fastq\n",
      "r10001_Day7-R2-24163.fastq\n",
      "r10001_Week10-R1-24177.fastq\n",
      "r04103_Day28-R1-24191.fastq\n",
      "r04103_Day21-R1-24182.fastq\n",
      "r10001_Day21-R2-24165.fastq\n",
      "r10001_Day14-R2-24172.fastq\n",
      "r10001_Day28-R1-24166.fastq\n",
      "r04103_Week6-R1-24184.fastq\n",
      "r04103_Day14-R2-24189.fastq\n",
      "r10001_Week8-R1-24176.fastq\n",
      "r04103_Week10-R1-24194.fastq\n",
      "r10001_Day14-R1-24164.fastq\n",
      "r10001_Week6-R1-24175.fastq\n",
      "r04103_Week6-R2-24192.fastq\n",
      "r04103_Week12(necropsy)-R1-24195.fastq\n",
      "r10001_Week12(necropsy)-R2-24170.fastq\n",
      "r10001_Day21-R1-24173.fastq\n",
      "r10001_Day7-R1-24163.fastq\n",
      "r04103_Day7-R1-24188.fastq\n",
      "r10001_Day28-R2-24166.fastq\n",
      "r04103_Week6-R2-24184.fastq\n",
      "r10001_Day14-R1-24172.fastq\n",
      "r10001_Day21-R1-24165.fastq\n",
      "r10001_Week10-R2-24177.fastq\n",
      "r04103_Day21-R2-24182.fastq\n",
      "r04103_Day28-R2-24191.fastq\n",
      "r04103_Day7-R2-24180.fastq\n",
      "r10001_Day28-R2-24174.fastq\n",
      "r10001_Week8-R2-24168.fastq\n",
      "r04103_Day28-R2-24183.fastq\n",
      "r04103_Day21-R2-24190.fastq\n",
      "r10001_Day7-R1-24171.fastq\n",
      "r04103_Week8-R1-24185.fastq\n",
      "r04103_Week12(necropsy)-R1-24187.fastq\n",
      "r10001_Week6-R1-24167.fastq\n",
      "r04103_Day14-R1-24181.fastq\n",
      "r10001_Week12(necropsy)-R1-24178.fastq\n",
      "r10001_Week10-R1-24169.fastq\n",
      "r04103_Week10-R1-24186.fastq\n",
      "r04103_Week8-R1-24193.fastq\n",
      "r10001_Week8-R1-24168.fastq\n",
      "r04103_Day21-R1-24190.fastq\n",
      "r04103_Day28-R1-24183.fastq\n",
      "r10001_Day28-R1-24174.fastq\n",
      "r04103_Day7-R1-24180.fastq\n",
      "r04103_Week8-R2-24185.fastq\n",
      "r10001_Day7-R2-24171.fastq\n",
      "r04103_Day14-R2-24181.fastq\n",
      "r10001_Week6-R2-24167.fastq\n",
      "r04103_Week12(necropsy)-R2-24187.fastq\n",
      "r04103_Week8-R2-24193.fastq\n",
      "r04103_Week10-R2-24186.fastq\n",
      "r10001_Week12(necropsy)-R2-24178.fastq\n",
      "r10001_Week10-R2-24169.fastq\n"
     ]
    }
   ],
   "source": [
    "for file in files: \n",
    "    #ignoring hidden files or other things in the directory\n",
    "    if file.endswith(\".fastq.gz\"):\n",
    "        #saving the file name as a string\n",
    "        name = str(file)\n",
    "        fname = str(file)[0:-3]\n",
    "        \n",
    "    with gzip.open(dir + \"/\" + name, 'rb') as f_in:\n",
    "        with open(dir + \"/\" + fname, 'wb') as f_out:\n",
    "            shutil.copyfileobj(f_in, f_out)\n",
    "        \n"
   ]
  },
  {
   "cell_type": "markdown",
   "metadata": {},
   "source": [
    "# Convert .fastq to .fasta"
   ]
  },
  {
   "cell_type": "code",
   "execution_count": 53,
   "metadata": {},
   "outputs": [],
   "source": [
    "#updating the file list from the directory\n",
    "files = os.listdir(dir)\n",
    "\n",
    "for file in files: \n",
    "    #ignoring hidden files or other things in the directory\n",
    "    if file.endswith(\".fastq\"):\n",
    "        #saving the file name as a string\n",
    "        name = str(file)\n",
    "        #saving the file name without the .fastq extension\n",
    "        fname = str(file)[0:-6]\n",
    "        #creating the file name for the fasta that we are going to output\n",
    "        outfname = fname + \".fasta\"\n",
    "\n",
    "        #dictates the name of the input file as a read only file\n",
    "        with open(dir + \"/\" + name, \"r\") as input_handle: \n",
    "            #dictates the name of the output file as a write-in file\n",
    "            with open(dir + \"/\" + outfname, \"w\") as output_handle: \n",
    "                #parses the input fastq file\n",
    "                sequences = SeqIO.parse(input_handle, \"fastq\")\n",
    "                #writes the parts from the previous statement to the output file as a fasta instead of a fastq\n",
    "                count = SeqIO.write(sequences, output_handle, \"fasta\")"
   ]
  },
  {
   "cell_type": "markdown",
   "metadata": {},
   "source": [
    "# Merging Reads"
   ]
  },
  {
   "cell_type": "code",
   "execution_count": 66,
   "metadata": {},
   "outputs": [
    {
     "data": {
      "text/plain": [
       "0"
      ]
     },
     "execution_count": 66,
     "metadata": {},
     "output_type": "execute_result"
    }
   ],
   "source": [
    "#reference file for mapping\n",
    "ref1 = appRoot + \"/ref/M33262.fasta\"\n",
    "\n",
    "#first file name\n",
    "fname1 = \"r10001_Week12necropsy-R1-24178\"\n",
    "\n",
    "fname2 = \"r10001_Week12necropsy-R2-24178\"\n",
    "\n",
    "outputf = \"r10001_Week12_Rep2\"\n",
    "\n",
    "#first paired end fastq file (NEEDS TO HAVE QUALITY INFO TO MERGE!!)\n",
    "pe1 = appRoot +  '/UnmappedUntrimmedUnmerged/' + fname1 + \".fastq\"\n",
    "\n",
    "#second paired end fastq file\n",
    "pe2 = appRoot + '/UnmappedUntrimmedUnmerged/' + fname2 + \".fastq\"\n",
    "\n",
    "#output file that contains mapped and trimmed reads\n",
    "out = appRoot + \"/out/\" + outputf + \"merged_reads.fastq\"\n",
    "\n",
    "##################MERGING#############\n",
    "merge_cmd = [appRoot + '/bbmap/bbmerge.sh', \"in=\" + pe1, \"in2=\" + pe2, \"out=\" + out, \"qtrim=t\",\n",
    "            \"trimq=20\"]\n",
    "subprocess.call(merge_cmd)"
   ]
  },
  {
   "cell_type": "markdown",
   "metadata": {},
   "source": [
    "# Mapping Reads"
   ]
  },
  {
   "cell_type": "code",
   "execution_count": 110,
   "metadata": {},
   "outputs": [
    {
     "data": {
      "text/plain": [
       "0"
      ]
     },
     "execution_count": 110,
     "metadata": {},
     "output_type": "execute_result"
    }
   ],
   "source": [
    "#folder absolute path to all files used in this tool\n",
    "appRoot = \"/Users/agolfinos/Desktop/SIV_Transmission_Paper/Sequences_IR/out\"\n",
    "\n",
    "#reference file for mapping\n",
    "ref1 = appRoot + \"/ref/M33262.fasta\"\n",
    "\n",
    "#animal number\n",
    "anNum = \"r10001\"\n",
    "\n",
    "#timepoint\n",
    "timePT = \"Week12\"\n",
    "\n",
    "#Rep#\n",
    "rep = \"2\"\n",
    "\n",
    "#merged file name\n",
    "filename = anNum + \"_\" + timePT + \"_Rep\" + rep\n",
    "\n",
    "#name and absolute path to the merged file we will use for mapping\n",
    "pe1 = appRoot + \"/\" + filename + \"merged_reads.fastq\"\n",
    "\n",
    "#output file that contains mapped reads\n",
    "out = appRoot + \"/\" + filename + \"merged_mapped_reads.fastq\"\n",
    "    \n",
    "#mapping reads to the reference without writing an index\n",
    "map_cmd = [appRoot + '/bbmap/bbmap.sh', \"ref=\" + ref1, \"in=\" + pe1,  \n",
    "          \"outm=\" + out]\n",
    "subprocess.call(map_cmd)"
   ]
  },
  {
   "cell_type": "markdown",
   "metadata": {},
   "source": [
    ".\n",
    "# Extracting Tat SL8 to Barcode Linkages"
   ]
  },
  {
   "cell_type": "code",
   "execution_count": 15,
   "metadata": {},
   "outputs": [
    {
     "name": "stdout",
     "output_type": "stream",
     "text": [
      "     Animal ID Time Point Rep Number                  SIVmac239M Barcode  \\\n",
      "271     r10001      Day14          1  ACGCGCTTGCAAGCAATCTAGCGGTAGCCCGCGT   \n",
      "844     r10001      Day21          1  ACGCGCTTGCAAGCAATCTAGCGGTAGCCCGCGT   \n",
      "1853    r10001      Day28          1  ACGCGCTTGCAAGCAATCTAGCGGTAGCCCGCGT   \n",
      "3101    r10001     Week12          1  ACGCGCTTGCAACTGAGCGGAGGGTAGCCCGCGT   \n",
      "2446    r10001     Week10          1  ACGCGCTTGCAACTGAGCGGAGGGTAGCCCGCGT   \n",
      "...        ...        ...        ...                                 ...   \n",
      "2949    r10001     Week12          1  ACGCGCTTGCAACCAATCTAGCGGTAGCCCGCGT   \n",
      "2950    r10001     Week12          1  ACGCGCTTGCAACCAATCTAGCGGTAGCCCGCGT   \n",
      "2951    r10001     Week12          1  ACGCGCTTGCAACCAATCTAGCTGTAGCCCGCGT   \n",
      "2952    r10001     Week12          1  ACGCGCTTGCAACCAATCTGAGGGTAGCCCGCGT   \n",
      "0       r10001      Day14          1  AAACGCGCTTGCAACTGAGCGGAGGGTAGCCCGC   \n",
      "\n",
      "     Tat SL8 Nucleotide Sequence Tat SL8 Amino Acid Sequence  count  \n",
      "271     TCCACTCCAGAATCGGCCAACCTG                    STPESANL  28942  \n",
      "844     TCCACTCCAGAATCGGCCAACCTG                    STPESANL  25785  \n",
      "1853    TCCATTCCAGAATCGGCCAACCTG                    SIPESANL  20769  \n",
      "3101    TCCACTCCAGAATTGGCCAACCTG                    STPELANL  14350  \n",
      "2446    TCCACTCCAGAATTGGCCAACCTG                    STPELANL  11565  \n",
      "...                          ...                         ...    ...  \n",
      "2949    TCCACTCCAGAATCGGCCAACCTG                    STPESANL      1  \n",
      "2950    TCCACTCCAGAATTGGCCAACCTG                    STPELANL      1  \n",
      "2951    TCCATTCCAGAATCGGCCAACCTG                    SIPESANL      1  \n",
      "2952    TCCACTCCAGAATTGGCCAACCTG                    STPELANL      1  \n",
      "0       CATCCACTCCAGAATCGGCCAACC                    HPLQNRPT      1  \n",
      "\n",
      "[4893 rows x 7 columns]\n"
     ]
    }
   ],
   "source": [
    "allLinkageData = []\n",
    "#for the files in our out directory\n",
    "for file in os.listdir(appRoot): \n",
    "    allAmplicons = []\n",
    "    #ONLY take the files that end with fastq, there are also some stats files and hidden files that we don't want\n",
    "    if file.endswith(\".fastq\"): \n",
    "        #using the Biopython parse we can read our fastq input\n",
    "        fastq_parser = SeqIO.parse(appRoot + file, \"fastq\")\n",
    "        for seq_record in fastq_parser: \n",
    "            #Take the current sequence\n",
    "            sequence = str(seq_record.seq)\n",
    "            allAmplicons.append(sequence)\n",
    "            #only finding the amplicons that are long enough to be real      \n",
    "    for amplicon in allAmplicons: \n",
    "        if (len(amplicon)) >= 451: \n",
    "            #we are making a list to append our barcode/SL8 variant pair to\n",
    "            link = []\n",
    "            #this will give us our animal name in one column\n",
    "            link.append(file[0:6])\n",
    "            #this will give us our timepoint in one column\n",
    "            link.append(file.split(\"_\")[1])\n",
    "            #this will give us our rep number in one column\n",
    "            link.append(file.split(\"_\")[2][3:4])\n",
    "            \n",
    "            #this is necessary for r04103\n",
    "            #amplicon5 = Seq.reverse_complement(amplicon[1:])\n",
    "            \n",
    "            #pulling out the barcode from r04103\n",
    "            #tag = str(amplicon5[73:107])\n",
    "            \n",
    "            #pulling out the barcode from r10001\n",
    "            tag = str((amplicon[1:])[72:106])\n",
    "            \n",
    "            link.append(tag)\n",
    "            \n",
    "            #now we are pulling out the Tat SL8 sequence for r04103\n",
    "            #SL8 = str(amplicon5[339:363])\n",
    "            \n",
    "            #now we are pulling out the Tat SL8 sequence for r10001\n",
    "            SL8 = str((amplicon[1:])[338:362])\n",
    "            \n",
    "            link.append(SL8)\n",
    "            #now we want to translate SL8\n",
    "            SL8AA = Seq.translate(SL8)\n",
    "            #now we are adding the amino acid sequence of SL8 as the second part of the list\n",
    "            link.append(SL8AA)\n",
    "            allLinkageData.append(link)\n",
    "\n",
    "df = pd.DataFrame(allLinkageData, columns=[\"Animal ID\", \"Time Point\", \n",
    "                                           \"Rep Number\", \"SIVmac239M Barcode\", \n",
    "                                           \"Tat SL8 Nucleotide Sequence\",\n",
    "                                           \"Tat SL8 Amino Acid Sequence\"])\n",
    "linkage_df = df.groupby([\"Animal ID\", \"Time Point\", \"Rep Number\", \n",
    "                          \"SIVmac239M Barcode\", \n",
    "                          \"Tat SL8 Nucleotide Sequence\", \n",
    "                          \"Tat SL8 Amino Acid Sequence\"]).size().reset_index().rename(columns={0:'count'})\n",
    "linked_sorted_df = linkage_df.sort_values(by=['count'], ascending=False)\n",
    "print(linked_sorted_df)\n",
    "linked_sorted_df.to_csv(appRoot + \"r10001TatSL8toBarcodeLinkage.csv\")           "
   ]
  },
  {
   "cell_type": "code",
   "execution_count": null,
   "metadata": {},
   "outputs": [],
   "source": []
  }
 ],
 "metadata": {
  "kernelspec": {
   "display_name": "Python 3",
   "language": "python",
   "name": "python3"
  },
  "language_info": {
   "codemirror_mode": {
    "name": "ipython",
    "version": 3
   },
   "file_extension": ".py",
   "mimetype": "text/x-python",
   "name": "python",
   "nbconvert_exporter": "python",
   "pygments_lexer": "ipython3",
   "version": "3.7.4"
  }
 },
 "nbformat": 4,
 "nbformat_minor": 2
}
